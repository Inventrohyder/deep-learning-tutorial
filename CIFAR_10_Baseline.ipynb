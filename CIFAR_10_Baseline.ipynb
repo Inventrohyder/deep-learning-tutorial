{
  "nbformat": 4,
  "nbformat_minor": 0,
  "metadata": {
    "colab": {
      "provenance": [],
      "include_colab_link": true
    },
    "kernelspec": {
      "name": "python3",
      "display_name": "Python 3"
    },
    "language_info": {
      "name": "python"
    },
    "accelerator": "GPU",
    "gpuClass": "standard"
  },
  "cells": [
    {
      "cell_type": "markdown",
      "metadata": {
        "id": "view-in-github",
        "colab_type": "text"
      },
      "source": [
        "<a href=\"https://colab.research.google.com/github/Inventrohyder/deep-learning-tutorial/blob/main/CIFAR_10_Baseline.ipynb\" target=\"_parent\"><img src=\"https://colab.research.google.com/assets/colab-badge.svg\" alt=\"Open In Colab\"/></a>"
      ]
    },
    {
      "cell_type": "code",
      "source": [
        "# test harness for evaluating models on the cifar10 dataset\n",
        "import sys\n",
        "from matplotlib import pyplot\n",
        "from keras.callbacks import History\n",
        "from keras.datasets import cifar10\n",
        "from keras.utils import to_categorical\n",
        "from keras.models import Model\n",
        "from keras.models import Sequential\n",
        "from keras.layers import Conv2D\n",
        "from keras.layers import MaxPooling2D\n",
        "from keras.layers import Dense\n",
        "from keras.layers import Flatten\n",
        "from keras.optimizers import Adam"
      ],
      "metadata": {
        "id": "ykPoBVddHCXh"
      },
      "execution_count": 1,
      "outputs": []
    },
    {
      "cell_type": "code",
      "source": [
        "# load train and test dataset\n",
        "def load_dataset():\n",
        " # load dataset\n",
        " (trainX, trainY), (testX, testY) = cifar10.load_data()\n",
        " # one hot encode target values\n",
        " trainY = to_categorical(trainY)\n",
        " testY = to_categorical(testY)\n",
        " return trainX, trainY, testX, testY"
      ],
      "metadata": {
        "id": "RvjjM2uAHEhv"
      },
      "execution_count": 2,
      "outputs": []
    },
    {
      "cell_type": "code",
      "source": [
        "# scale pixels\n",
        "def prep_pixels(train, test):\n",
        " # convert from integers to floats\n",
        " train_norm = train.astype('float32')\n",
        " test_norm = test.astype('float32')\n",
        " # normalize to range 0-1\n",
        " train_norm = train_norm / 255.0\n",
        " test_norm = test_norm / 255.0\n",
        " # return normalized images\n",
        " return train_norm, test_norm"
      ],
      "metadata": {
        "id": "ACOFTD9CHGHc"
      },
      "execution_count": 3,
      "outputs": []
    },
    {
      "cell_type": "code",
      "source": [
        "def define_model() -> Model:\n",
        "  \"\"\" This function defines the model. Most hyperparameters are located here, \n",
        "  although you can also consider data preparation to have hyperparameters. \n",
        "  Focus on modifying this part.\n",
        "  \"\"\"\n",
        "  model = Sequential()\n",
        "  model.add(Conv2D(32, (3, 3), activation='relu', input_shape=(32, 32, 3)))\n",
        "  model.add(Conv2D(32, (3, 3), activation='relu'))\n",
        "  model.add(MaxPooling2D((2, 2)))\n",
        "  model.add(Conv2D(64, (3, 3), activation='relu'))\n",
        "  model.add(Conv2D(64, (3, 3), activation='relu'))\n",
        "  model.add(MaxPooling2D((2, 2)))\n",
        "  model.add(Flatten())\n",
        "  model.add(Dense(128, activation='relu'))\n",
        "  model.add(Dense(10, activation='softmax'))\n",
        "  # compile model\n",
        "  opt = Adam(learning_rate=0.001)\n",
        "  model.compile(optimizer=opt, loss='categorical_crossentropy', metrics=['accuracy'])\n",
        "  return model"
      ],
      "metadata": {
        "id": "fTPKsOwBHH6W"
      },
      "execution_count": 4,
      "outputs": []
    },
    {
      "cell_type": "code",
      "source": [
        "# plot diagnostic learning curves\n",
        "def summarize_diagnostics(history: History) -> None:\n",
        " # plot loss\n",
        " pyplot.subplot(211)\n",
        " pyplot.title('Cross Entropy Loss')\n",
        " pyplot.plot(history.history['loss'], color='blue', label='train')\n",
        " pyplot.plot(history.history['val_loss'], color='orange', label='test')\n",
        " # plot accuracy\n",
        " pyplot.subplot(212)\n",
        " pyplot.title('Classification Accuracy')\n",
        " pyplot.plot(history.history['accuracy'], color='blue', label='train')\n",
        " pyplot.plot(history.history['val_accuracy'], color='orange', label='test')\n",
        " pyplot.legend()\n",
        " # save plot to file\n",
        " filename = sys.argv[0].split('/')[-1]\n",
        " pyplot.savefig(filename + '_plot.png')\n",
        " pyplot.show()\n",
        " pyplot.close()"
      ],
      "metadata": {
        "id": "fN3J0aWnHKn9"
      },
      "execution_count": 5,
      "outputs": []
    },
    {
      "cell_type": "code",
      "source": [
        "# run the test harness for evaluating a model\n",
        "def run_test_harness(model: Model):\n",
        " # load dataset\n",
        " trainX, trainY, testX, testY = load_dataset()\n",
        " # prepare pixel data\n",
        " trainX, testX = prep_pixels(trainX, testX)\n",
        "\n",
        " # fit model\n",
        " history = model.fit(trainX, trainY, epochs=20, batch_size=64, validation_data=(testX, testY))\n",
        " # evaluate model\n",
        " _, acc = model.evaluate(testX, testY, verbose=0)\n",
        " print('> %.3f' % (acc * 100.0))\n",
        " # learning curves\n",
        " summarize_diagnostics(history)"
      ],
      "metadata": {
        "id": "qdyZbmlMJ6Ru"
      },
      "execution_count": 6,
      "outputs": []
    },
    {
      "cell_type": "code",
      "source": [
        "# entry point, run the test harness\n",
        "run_test_harness(model = define_model())"
      ],
      "metadata": {
        "colab": {
          "base_uri": "https://localhost:8080/",
          "height": 978
        },
        "id": "vtiF5U9NZsHB",
        "outputId": "eeb7af07-e8a7-4fb0-d7d7-10d365c04052"
      },
      "execution_count": 7,
      "outputs": [
        {
          "output_type": "stream",
          "name": "stdout",
          "text": [
            "Epoch 1/20\n",
            "782/782 [==============================] - 10s 10ms/step - loss: 1.5080 - accuracy: 0.4526 - val_loss: 1.2089 - val_accuracy: 0.5672\n",
            "Epoch 2/20\n",
            "782/782 [==============================] - 8s 10ms/step - loss: 1.0639 - accuracy: 0.6267 - val_loss: 1.0189 - val_accuracy: 0.6471\n",
            "Epoch 3/20\n",
            "782/782 [==============================] - 5s 7ms/step - loss: 0.8726 - accuracy: 0.6972 - val_loss: 0.8736 - val_accuracy: 0.6978\n",
            "Epoch 4/20\n",
            "782/782 [==============================] - 5s 7ms/step - loss: 0.7522 - accuracy: 0.7389 - val_loss: 0.8068 - val_accuracy: 0.7260\n",
            "Epoch 5/20\n",
            "782/782 [==============================] - 5s 7ms/step - loss: 0.6702 - accuracy: 0.7651 - val_loss: 0.7785 - val_accuracy: 0.7309\n",
            "Epoch 6/20\n",
            "782/782 [==============================] - 5s 6ms/step - loss: 0.5967 - accuracy: 0.7917 - val_loss: 0.7481 - val_accuracy: 0.7429\n",
            "Epoch 7/20\n",
            "782/782 [==============================] - 5s 7ms/step - loss: 0.5361 - accuracy: 0.8108 - val_loss: 0.7436 - val_accuracy: 0.7501\n",
            "Epoch 8/20\n",
            "782/782 [==============================] - 5s 7ms/step - loss: 0.4779 - accuracy: 0.8324 - val_loss: 0.7568 - val_accuracy: 0.7544\n",
            "Epoch 9/20\n",
            "782/782 [==============================] - 5s 6ms/step - loss: 0.4255 - accuracy: 0.8509 - val_loss: 0.8078 - val_accuracy: 0.7486\n",
            "Epoch 10/20\n",
            "782/782 [==============================] - 5s 7ms/step - loss: 0.3750 - accuracy: 0.8695 - val_loss: 0.8266 - val_accuracy: 0.7485\n",
            "Epoch 11/20\n",
            "782/782 [==============================] - 5s 6ms/step - loss: 0.3369 - accuracy: 0.8798 - val_loss: 0.8577 - val_accuracy: 0.7551\n",
            "Epoch 12/20\n",
            "782/782 [==============================] - 5s 6ms/step - loss: 0.2854 - accuracy: 0.8988 - val_loss: 0.9140 - val_accuracy: 0.7517\n",
            "Epoch 13/20\n",
            "782/782 [==============================] - 5s 7ms/step - loss: 0.2574 - accuracy: 0.9088 - val_loss: 0.9394 - val_accuracy: 0.7537\n",
            "Epoch 14/20\n",
            "782/782 [==============================] - 5s 7ms/step - loss: 0.2210 - accuracy: 0.9222 - val_loss: 1.0164 - val_accuracy: 0.7509\n",
            "Epoch 15/20\n",
            "782/782 [==============================] - 5s 7ms/step - loss: 0.1967 - accuracy: 0.9293 - val_loss: 1.1288 - val_accuracy: 0.7522\n",
            "Epoch 16/20\n",
            "782/782 [==============================] - 5s 7ms/step - loss: 0.1825 - accuracy: 0.9347 - val_loss: 1.1945 - val_accuracy: 0.7500\n",
            "Epoch 17/20\n",
            "782/782 [==============================] - 5s 6ms/step - loss: 0.1539 - accuracy: 0.9440 - val_loss: 1.2452 - val_accuracy: 0.7409\n",
            "Epoch 18/20\n",
            "782/782 [==============================] - 5s 7ms/step - loss: 0.1381 - accuracy: 0.9505 - val_loss: 1.3411 - val_accuracy: 0.7344\n",
            "Epoch 19/20\n",
            "782/782 [==============================] - 5s 6ms/step - loss: 0.1335 - accuracy: 0.9529 - val_loss: 1.3820 - val_accuracy: 0.7394\n",
            "Epoch 20/20\n",
            "782/782 [==============================] - 5s 7ms/step - loss: 0.1237 - accuracy: 0.9558 - val_loss: 1.4520 - val_accuracy: 0.7326\n",
            "> 73.260\n"
          ]
        },
        {
          "output_type": "display_data",
          "data": {
            "text/plain": [
              "<Figure size 432x288 with 2 Axes>"
            ],
            "image/png": "[encoded data removed]"
          },
          "metadata": {
            "needs_background": "light"
          }
        }
      ]
    },
    {
      "cell_type": "markdown",
      "source": [
        "The model above is **overfitting** because the accuracy of the model\n",
        "on the training data keeps on improving but that of the testing\n",
        "data doesn't."
      ],
      "metadata": {
        "id": "JIq54ZdnLTiM"
      }
    }
  ]
}