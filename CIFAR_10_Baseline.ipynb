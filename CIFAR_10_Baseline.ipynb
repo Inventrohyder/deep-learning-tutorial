{
  "nbformat": 4,
  "nbformat_minor": 0,
  "metadata": {
    "colab": {
      "provenance": [],
      "include_colab_link": true
    },
    "kernelspec": {
      "name": "python3",
      "display_name": "Python 3"
    },
    "language_info": {
      "name": "python"
    },
    "accelerator": "GPU",
    "gpuClass": "standard"
  },
  "cells": [
    {
      "cell_type": "markdown",
      "metadata": {
        "id": "view-in-github",
        "colab_type": "text"
      },
      "source": [
        "<a href=\"https://colab.research.google.com/github/Inventrohyder/deep-learning-tutorial/blob/main/CIFAR_10_Baseline.ipynb\" target=\"_parent\"><img src=\"https://colab.research.google.com/assets/colab-badge.svg\" alt=\"Open In Colab\"/></a>"
      ]
    },
    {
      "cell_type": "code",
      "source": [
        "# test harness for evaluating models on the cifar10 dataset\n",
        "import sys\n",
        "from matplotlib import pyplot\n",
        "from keras.datasets import cifar10\n",
        "from keras.utils import to_categorical\n",
        "from keras.models import Sequential\n",
        "from keras.layers import Conv2D\n",
        "from keras.layers import MaxPooling2D\n",
        "from keras.layers import Dense\n",
        "from keras.layers import Flatten\n",
        "from keras.optimizers import Adam"
      ],
      "metadata": {
        "id": "ykPoBVddHCXh"
      },
      "execution_count": 1,
      "outputs": []
    },
    {
      "cell_type": "code",
      "source": [
        "# load train and test dataset\n",
        "def load_dataset():\n",
        " # load dataset\n",
        " (trainX, trainY), (testX, testY) = cifar10.load_data()\n",
        " # one hot encode target values\n",
        " trainY = to_categorical(trainY)\n",
        " testY = to_categorical(testY)\n",
        " return trainX, trainY, testX, testY"
      ],
      "metadata": {
        "id": "RvjjM2uAHEhv"
      },
      "execution_count": 2,
      "outputs": []
    },
    {
      "cell_type": "code",
      "source": [
        "# scale pixels\n",
        "def prep_pixels(train, test):\n",
        " # convert from integers to floats\n",
        " train_norm = train.astype('float32')\n",
        " test_norm = test.astype('float32')\n",
        " # normalize to range 0-1\n",
        " train_norm = train_norm / 255.0\n",
        " test_norm = test_norm / 255.0\n",
        " # return normalized images\n",
        " return train_norm, test_norm"
      ],
      "metadata": {
        "id": "ACOFTD9CHGHc"
      },
      "execution_count": 3,
      "outputs": []
    },
    {
      "cell_type": "code",
      "source": [
        "def define_model():\n",
        "  \"\"\" This function defines the model. Most hyperparameters are located here, \n",
        "  although you can also consider data preparation to have hyperparameters. \n",
        "  Focus on modifying this part.\n",
        "  \"\"\"\n",
        "  model = Sequential()\n",
        "  model.add(Conv2D(32, (3, 3), activation='relu', input_shape=(32, 32, 3)))\n",
        "  model.add(Conv2D(32, (3, 3), activation='relu'))\n",
        "  model.add(MaxPooling2D((2, 2)))\n",
        "  model.add(Conv2D(64, (3, 3), activation='relu'))\n",
        "  model.add(Conv2D(64, (3, 3), activation='relu'))\n",
        "  model.add(MaxPooling2D((2, 2)))\n",
        "  model.add(Flatten())\n",
        "  model.add(Dense(128, activation='relu'))\n",
        "  model.add(Dense(10, activation='softmax'))\n",
        "  # compile model\n",
        "  opt = Adam(learning_rate=0.001)\n",
        "  model.compile(optimizer=opt, loss='categorical_crossentropy', metrics=['accuracy'])\n",
        "  return model"
      ],
      "metadata": {
        "id": "fTPKsOwBHH6W"
      },
      "execution_count": 4,
      "outputs": []
    },
    {
      "cell_type": "code",
      "source": [
        "# plot diagnostic learning curves\n",
        "def summarize_diagnostics(history):\n",
        " # plot loss\n",
        " pyplot.subplot(211)\n",
        " pyplot.title('Cross Entropy Loss')\n",
        " pyplot.plot(history.history['loss'], color='blue', label='train')\n",
        " pyplot.plot(history.history['val_loss'], color='orange', label='test')\n",
        " # plot accuracy\n",
        " pyplot.subplot(212)\n",
        " pyplot.title('Classification Accuracy')\n",
        " pyplot.plot(history.history['accuracy'], color='blue', label='train')\n",
        " pyplot.plot(history.history['val_accuracy'], color='orange', label='test')\n",
        " # save plot to file\n",
        " filename = sys.argv[0].split('/')[-1]\n",
        " pyplot.savefig(filename + '_plot.png')\n",
        " pyplot.show()\n",
        " pyplot.close()"
      ],
      "metadata": {
        "id": "fN3J0aWnHKn9"
      },
      "execution_count": 5,
      "outputs": []
    },
    {
      "cell_type": "code",
      "source": [
        "# run the test harness for evaluating a model\n",
        "def run_test_harness():\n",
        " # load dataset\n",
        " trainX, trainY, testX, testY = load_dataset()\n",
        " # prepare pixel data\n",
        " trainX, testX = prep_pixels(trainX, testX)\n",
        " # define model\n",
        " model = define_model()\n",
        " # fit model\n",
        " history = model.fit(trainX, trainY, epochs=20, batch_size=64, validation_data=(testX, testY))\n",
        " # evaluate model\n",
        " _, acc = model.evaluate(testX, testY, verbose=0)\n",
        " print('> %.3f' % (acc * 100.0))\n",
        " # learning curves\n",
        " summarize_diagnostics(history)\n",
        " \n",
        "# entry point, run the test harness\n",
        "run_test_harness()"
      ],
      "metadata": {
        "colab": {
          "base_uri": "https://localhost:8080/",
          "height": 978
        },
        "id": "vtiF5U9NZsHB",
        "outputId": "d16428ca-dd5e-4289-8e74-08dca346c7ac"
      },
      "execution_count": 6,
      "outputs": [
        {
          "output_type": "stream",
          "name": "stdout",
          "text": [
            "Epoch 1/20\n",
            "782/782 [==============================] - 10s 11ms/step - loss: 1.4813 - accuracy: 0.4625 - val_loss: 1.2123 - val_accuracy: 0.5673\n",
            "Epoch 2/20\n",
            "782/782 [==============================] - 8s 10ms/step - loss: 1.0802 - accuracy: 0.6192 - val_loss: 0.9794 - val_accuracy: 0.6529\n",
            "Epoch 3/20\n",
            "782/782 [==============================] - 5s 6ms/step - loss: 0.8991 - accuracy: 0.6843 - val_loss: 0.8898 - val_accuracy: 0.6920\n",
            "Epoch 4/20\n",
            "782/782 [==============================] - 5s 6ms/step - loss: 0.7805 - accuracy: 0.7272 - val_loss: 0.8605 - val_accuracy: 0.7019\n",
            "Epoch 5/20\n",
            "782/782 [==============================] - 5s 6ms/step - loss: 0.7017 - accuracy: 0.7540 - val_loss: 0.7871 - val_accuracy: 0.7257\n",
            "Epoch 6/20\n",
            "782/782 [==============================] - 5s 6ms/step - loss: 0.6251 - accuracy: 0.7817 - val_loss: 0.7801 - val_accuracy: 0.7368\n",
            "Epoch 7/20\n",
            "782/782 [==============================] - 5s 6ms/step - loss: 0.5640 - accuracy: 0.8029 - val_loss: 0.7712 - val_accuracy: 0.7359\n",
            "Epoch 8/20\n",
            "782/782 [==============================] - 5s 6ms/step - loss: 0.5107 - accuracy: 0.8204 - val_loss: 0.7923 - val_accuracy: 0.7363\n",
            "Epoch 9/20\n",
            "782/782 [==============================] - 5s 6ms/step - loss: 0.4520 - accuracy: 0.8410 - val_loss: 0.8136 - val_accuracy: 0.7374\n",
            "Epoch 10/20\n",
            "782/782 [==============================] - 5s 6ms/step - loss: 0.4015 - accuracy: 0.8588 - val_loss: 0.8539 - val_accuracy: 0.7407\n",
            "Epoch 11/20\n",
            "782/782 [==============================] - 5s 6ms/step - loss: 0.3494 - accuracy: 0.8769 - val_loss: 0.8744 - val_accuracy: 0.7401\n",
            "Epoch 12/20\n",
            "782/782 [==============================] - 5s 7ms/step - loss: 0.3113 - accuracy: 0.8905 - val_loss: 0.9925 - val_accuracy: 0.7303\n",
            "Epoch 13/20\n",
            "782/782 [==============================] - 5s 6ms/step - loss: 0.2754 - accuracy: 0.9033 - val_loss: 0.9988 - val_accuracy: 0.7396\n",
            "Epoch 14/20\n",
            "782/782 [==============================] - 5s 6ms/step - loss: 0.2457 - accuracy: 0.9124 - val_loss: 1.0524 - val_accuracy: 0.7352\n",
            "Epoch 15/20\n",
            "782/782 [==============================] - 5s 7ms/step - loss: 0.2155 - accuracy: 0.9216 - val_loss: 1.1397 - val_accuracy: 0.7400\n",
            "Epoch 16/20\n",
            "782/782 [==============================] - 5s 6ms/step - loss: 0.1906 - accuracy: 0.9315 - val_loss: 1.3561 - val_accuracy: 0.7178\n",
            "Epoch 17/20\n",
            "782/782 [==============================] - 6s 8ms/step - loss: 0.1712 - accuracy: 0.9380 - val_loss: 1.2624 - val_accuracy: 0.7239\n",
            "Epoch 18/20\n",
            "782/782 [==============================] - 5s 6ms/step - loss: 0.1546 - accuracy: 0.9448 - val_loss: 1.4451 - val_accuracy: 0.7216\n",
            "Epoch 19/20\n",
            "782/782 [==============================] - 5s 6ms/step - loss: 0.1415 - accuracy: 0.9481 - val_loss: 1.4006 - val_accuracy: 0.7234\n",
            "Epoch 20/20\n",
            "782/782 [==============================] - 5s 7ms/step - loss: 0.1318 - accuracy: 0.9530 - val_loss: 1.5168 - val_accuracy: 0.7328\n",
            "> 73.280\n"
          ]
        },
        {
          "output_type": "display_data",
          "data": {
            "text/plain": [
              "<Figure size 432x288 with 2 Axes>"
            ],
            "image/png": "[encoded data removed]"
          },
          "metadata": {
            "needs_background": "light"
          }
        }
      ]
    }
  ]
}