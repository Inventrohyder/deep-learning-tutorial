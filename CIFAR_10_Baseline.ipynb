{
  "nbformat": 4,
  "nbformat_minor": 0,
  "metadata": {
    "colab": {
      "provenance": [],
      "include_colab_link": true
    },
    "kernelspec": {
      "name": "python3",
      "display_name": "Python 3"
    },
    "language_info": {
      "name": "python"
    },
    "accelerator": "GPU",
    "gpuClass": "standard"
  },
  "cells": [
    {
      "cell_type": "markdown",
      "metadata": {
        "id": "view-in-github",
        "colab_type": "text"
      },
      "source": [
        "<a href=\"https://colab.research.google.com/github/Inventrohyder/deep-learning-tutorial/blob/main/CIFAR_10_Baseline.ipynb\" target=\"_parent\"><img src=\"https://colab.research.google.com/assets/colab-badge.svg\" alt=\"Open In Colab\"/></a>"
      ]
    },
    {
      "cell_type": "code",
      "source": [
        "# test harness for evaluating models on the cifar10 dataset\n",
        "import sys\n",
        "from matplotlib import pyplot\n",
        "from keras.callbacks import History\n",
        "from keras.datasets import cifar10\n",
        "from keras.utils import to_categorical\n",
        "from keras.models import Model\n",
        "from keras.models import Sequential\n",
        "from keras.layers import Conv2D\n",
        "from keras.layers import MaxPooling2D\n",
        "from keras.layers import Dense\n",
        "from keras.layers import Flatten\n",
        "from keras.optimizers import Adam"
      ],
      "metadata": {
        "id": "ykPoBVddHCXh"
      },
      "execution_count": 1,
      "outputs": []
    },
    {
      "cell_type": "code",
      "source": [
        "# load train and test dataset\n",
        "def load_dataset():\n",
        " # load dataset\n",
        " (trainX, trainY), (testX, testY) = cifar10.load_data()\n",
        " # one hot encode target values\n",
        " trainY = to_categorical(trainY)\n",
        " testY = to_categorical(testY)\n",
        " return trainX, trainY, testX, testY"
      ],
      "metadata": {
        "id": "RvjjM2uAHEhv"
      },
      "execution_count": 2,
      "outputs": []
    },
    {
      "cell_type": "code",
      "source": [
        "# scale pixels\n",
        "def prep_pixels(train, test):\n",
        " # convert from integers to floats\n",
        " train_norm = train.astype('float32')\n",
        " test_norm = test.astype('float32')\n",
        " # normalize to range 0-1\n",
        " train_norm = train_norm / 255.0\n",
        " test_norm = test_norm / 255.0\n",
        " # return normalized images\n",
        " return train_norm, test_norm"
      ],
      "metadata": {
        "id": "ACOFTD9CHGHc"
      },
      "execution_count": 3,
      "outputs": []
    },
    {
      "cell_type": "code",
      "source": [
        "def define_model() -> Model:\n",
        "  \"\"\" This function defines the model. Most hyperparameters are located here, \n",
        "  although you can also consider data preparation to have hyperparameters. \n",
        "  Focus on modifying this part.\n",
        "  \"\"\"\n",
        "  model = Sequential()\n",
        "  model.add(Conv2D(32, (3, 3), activation='relu', input_shape=(32, 32, 3)))\n",
        "  model.add(Conv2D(32, (3, 3), activation='relu'))\n",
        "  model.add(MaxPooling2D((2, 2)))\n",
        "  model.add(Conv2D(64, (3, 3), activation='relu'))\n",
        "  model.add(Conv2D(64, (3, 3), activation='relu'))\n",
        "  model.add(MaxPooling2D((2, 2)))\n",
        "  model.add(Flatten())\n",
        "  model.add(Dense(128, activation='relu'))\n",
        "  model.add(Dense(10, activation='softmax'))\n",
        "  # compile model\n",
        "  opt = Adam(learning_rate=0.001)\n",
        "  model.compile(optimizer=opt, loss='categorical_crossentropy', metrics=['accuracy'])\n",
        "  return model"
      ],
      "metadata": {
        "id": "fTPKsOwBHH6W"
      },
      "execution_count": 4,
      "outputs": []
    },
    {
      "cell_type": "code",
      "source": [
        "# plot diagnostic learning curves\n",
        "def summarize_diagnostics(history: History) -> None:\n",
        " # plot loss\n",
        " pyplot.subplot(211)\n",
        " pyplot.title('Cross Entropy Loss')\n",
        " pyplot.plot(history.history['loss'], color='blue', label='train')\n",
        " pyplot.plot(history.history['val_loss'], color='orange', label='test')\n",
        " # plot accuracy\n",
        " pyplot.subplot(212)\n",
        " pyplot.title('Classification Accuracy')\n",
        " pyplot.plot(history.history['accuracy'], color='blue', label='train')\n",
        " pyplot.plot(history.history['val_accuracy'], color='orange', label='test')\n",
        " # save plot to file\n",
        " filename = sys.argv[0].split('/')[-1]\n",
        " pyplot.savefig(filename + '_plot.png')\n",
        " pyplot.show()\n",
        " pyplot.close()"
      ],
      "metadata": {
        "id": "fN3J0aWnHKn9"
      },
      "execution_count": 5,
      "outputs": []
    },
    {
      "cell_type": "code",
      "source": [
        "# run the test harness for evaluating a model\n",
        "def run_test_harness(model: Model):\n",
        " # load dataset\n",
        " trainX, trainY, testX, testY = load_dataset()\n",
        " # prepare pixel data\n",
        " trainX, testX = prep_pixels(trainX, testX)\n",
        "\n",
        " # fit model\n",
        " history = model.fit(trainX, trainY, epochs=20, batch_size=64, validation_data=(testX, testY))\n",
        " # evaluate model\n",
        " _, acc = model.evaluate(testX, testY, verbose=0)\n",
        " print('> %.3f' % (acc * 100.0))\n",
        " # learning curves\n",
        " summarize_diagnostics(history)"
      ],
      "metadata": {
        "id": "qdyZbmlMJ6Ru"
      },
      "execution_count": 6,
      "outputs": []
    },
    {
      "cell_type": "code",
      "source": [
        "# entry point, run the test harness\n",
        "run_test_harness(model = define_model())"
      ],
      "metadata": {
        "colab": {
          "base_uri": "https://localhost:8080/",
          "height": 978
        },
        "id": "vtiF5U9NZsHB",
        "outputId": "45154b35-916d-4732-c3d3-1060d7965c05"
      },
      "execution_count": 7,
      "outputs": [
        {
          "output_type": "stream",
          "name": "stdout",
          "text": [
            "Epoch 1/20\n",
            "782/782 [==============================] - 12s 12ms/step - loss: 1.4940 - accuracy: 0.4568 - val_loss: 1.2798 - val_accuracy: 0.5498\n",
            "Epoch 2/20\n",
            "782/782 [==============================] - 9s 12ms/step - loss: 1.0836 - accuracy: 0.6210 - val_loss: 1.0161 - val_accuracy: 0.6416\n",
            "Epoch 3/20\n",
            "782/782 [==============================] - 5s 6ms/step - loss: 0.8967 - accuracy: 0.6858 - val_loss: 0.8656 - val_accuracy: 0.6978\n",
            "Epoch 4/20\n",
            "782/782 [==============================] - 5s 6ms/step - loss: 0.7697 - accuracy: 0.7317 - val_loss: 0.8149 - val_accuracy: 0.7185\n",
            "Epoch 5/20\n",
            "782/782 [==============================] - 5s 6ms/step - loss: 0.6811 - accuracy: 0.7585 - val_loss: 0.8061 - val_accuracy: 0.7247\n",
            "Epoch 6/20\n",
            "782/782 [==============================] - 5s 7ms/step - loss: 0.6031 - accuracy: 0.7868 - val_loss: 0.7963 - val_accuracy: 0.7356\n",
            "Epoch 7/20\n",
            "782/782 [==============================] - 5s 6ms/step - loss: 0.5423 - accuracy: 0.8098 - val_loss: 0.7846 - val_accuracy: 0.7406\n",
            "Epoch 8/20\n",
            "782/782 [==============================] - 5s 6ms/step - loss: 0.4828 - accuracy: 0.8296 - val_loss: 0.8530 - val_accuracy: 0.7205\n",
            "Epoch 9/20\n",
            "782/782 [==============================] - 5s 7ms/step - loss: 0.4275 - accuracy: 0.8483 - val_loss: 0.8257 - val_accuracy: 0.7453\n",
            "Epoch 10/20\n",
            "782/782 [==============================] - 5s 6ms/step - loss: 0.3740 - accuracy: 0.8679 - val_loss: 0.8096 - val_accuracy: 0.7502\n",
            "Epoch 11/20\n",
            "782/782 [==============================] - 5s 7ms/step - loss: 0.3289 - accuracy: 0.8821 - val_loss: 0.8441 - val_accuracy: 0.7503\n",
            "Epoch 12/20\n",
            "782/782 [==============================] - 5s 6ms/step - loss: 0.2880 - accuracy: 0.8973 - val_loss: 0.9262 - val_accuracy: 0.7438\n",
            "Epoch 13/20\n",
            "782/782 [==============================] - 5s 6ms/step - loss: 0.2477 - accuracy: 0.9115 - val_loss: 0.9936 - val_accuracy: 0.7430\n",
            "Epoch 14/20\n",
            "782/782 [==============================] - 5s 6ms/step - loss: 0.2144 - accuracy: 0.9229 - val_loss: 1.1728 - val_accuracy: 0.7290\n",
            "Epoch 15/20\n",
            "782/782 [==============================] - 5s 6ms/step - loss: 0.1894 - accuracy: 0.9317 - val_loss: 1.1713 - val_accuracy: 0.7337\n",
            "Epoch 16/20\n",
            "782/782 [==============================] - 5s 6ms/step - loss: 0.1735 - accuracy: 0.9381 - val_loss: 1.2135 - val_accuracy: 0.7322\n",
            "Epoch 17/20\n",
            "782/782 [==============================] - 6s 7ms/step - loss: 0.1466 - accuracy: 0.9462 - val_loss: 1.3683 - val_accuracy: 0.7333\n",
            "Epoch 18/20\n",
            "782/782 [==============================] - 5s 7ms/step - loss: 0.1388 - accuracy: 0.9501 - val_loss: 1.4307 - val_accuracy: 0.7249\n",
            "Epoch 19/20\n",
            "782/782 [==============================] - 5s 7ms/step - loss: 0.1314 - accuracy: 0.9530 - val_loss: 1.4308 - val_accuracy: 0.7307\n",
            "Epoch 20/20\n",
            "782/782 [==============================] - 5s 6ms/step - loss: 0.1151 - accuracy: 0.9587 - val_loss: 1.5028 - val_accuracy: 0.7412\n",
            "> 74.120\n"
          ]
        },
        {
          "output_type": "display_data",
          "data": {
            "text/plain": [
              "<Figure size 432x288 with 2 Axes>"
            ],
            "image/png": "[encoded data removed]"
          },
          "metadata": {
            "needs_background": "light"
          }
        }
      ]
    }
  ]
}